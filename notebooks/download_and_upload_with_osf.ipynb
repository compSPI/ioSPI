{
 "cells": [
  {
   "cell_type": "markdown",
   "id": "a820b6f9",
   "metadata": {
    "pycharm": {
     "name": "#%% md\n"
    }
   },
   "source": [
    "# Download and Upload with OSF\n",
    "\n",
    "This tutorial shows how to download and upload cryo-EM datasets using the `datasets` module from `ioSPI`, that interact with the [Open Science Foundation (OSF)](https://osf.io/) framework.\n",
    "\n",
    "OSF is an initiative that aims to increase the openness, reproducibility and integrity of scientific research. Among other functionalities, it is possible to upload scientific data which can be accessed by an Application Programming Interface (API). \n",
    "\n",
    "``ioSPI`` offers functionalities that allow uploading and accessing cryo-EM data using:\n",
    "- either, in order to get started: using the class `Project` that leverages the package `osfclient`\n",
    "- or, if the user requires finer control: using the class `OSFUpload` which follows `OSF APIv2`. \n",
    "\n",
    "This tutorial introduces both options."
   ]
  },
  {
   "cell_type": "markdown",
   "id": "e60fbfce",
   "metadata": {
    "pycharm": {
     "name": "#%% md\n"
    }
   },
   "source": [
    "# Set-up"
   ]
  },
  {
   "cell_type": "markdown",
   "id": "869c66c3",
   "metadata": {
    "pycharm": {
     "name": "#%% md\n"
    }
   },
   "source": [
    "First, you will need to get setup with osf.\n",
    "\n",
    "- Create an account on https://osf.io/ and save the email address you use.\n",
    "- On this account, create a personal token in [Settings](https://osf.io/settings/tokens) and save it.\n",
    "\n",
    "The email address and the token will be needed to connect to different OSF projects.\n",
    "\n",
    "We import the `datasets` module from `ioSPI`:"
   ]
  },
  {
   "cell_type": "code",
   "execution_count": 2,
   "id": "e74dd634",
   "metadata": {
    "pycharm": {
     "name": "#%%\n"
    }
   },
   "outputs": [],
   "source": [
    "import sys\n",
    "sys.path.append('../')\n",
    "\n",
    "from ioSPI import datasets"
   ]
  },
  {
   "cell_type": "markdown",
   "id": "cfc8e678",
   "metadata": {
    "pycharm": {
     "name": "#%% md\n"
    }
   },
   "source": [
    "# Getting Started"
   ]
  },
  {
   "cell_type": "markdown",
   "id": "c74b27f6",
   "metadata": {
    "pycharm": {
     "name": "#%% md\n"
    }
   },
   "source": [
    "## Configure your credentials to access the OSF Project"
   ]
  },
  {
   "cell_type": "markdown",
   "id": "2e4d58a3",
   "metadata": {
    "pycharm": {
     "name": "#%% md\n"
    }
   },
   "source": [
    "Find the OSF project from which you wish to download your data. \n",
    "\n",
    "In this tutorial, we use a project called \"cryoEM simulated\" which contains simulated images from the 80s human ribosome. This project is on osf at the url: \"https://osf.io/7g42j/\".\n",
    "\n",
    "- Save the ID of the project of interest, which appears in the project's url.\n",
    "\n",
    "In our case, the project ID is `7g42j`.\n",
    "\n",
    "- Create an object from the class `Project` using:\n",
    "  - your credentials from the set up: email address and token,\n",
    "  - the project ID that you just saved."
   ]
  },
  {
   "cell_type": "code",
   "execution_count": 4,
   "id": "febfdedd",
   "metadata": {
    "pycharm": {
     "name": "#%%\n"
    }
   },
   "outputs": [
    {
     "name": "stdout",
     "output_type": "stream",
     "text": [
      "OSF config written to .osfcli.config!\n"
     ]
    }
   ],
   "source": [
    "cryoem_simulated_project = datasets.OSFProject(\n",
    "    username=\"ninamio78@gmail.com\", \n",
    "    token=\"HBGGBOJcLYQfadEKIOyXJiLTum3ydXK4nGP3KmbkYUeBuYkZma9LPBSYennQn92gjP2NHn\",\n",
    "    project_id=\"xbr2m\")"
   ]
  },
  {
   "cell_type": "markdown",
   "id": "633b4dd8",
   "metadata": {
    "pycharm": {
     "name": "#%% md\n"
    }
   },
   "source": [
    "You have successfully set up the configuration of the OSF project!\n",
    "\n",
    "## List Files on the OSF Project\n",
    "\n",
    "Now you can list the files available on this OSF project. Note that this code can take a few minutes to run."
   ]
  },
  {
   "cell_type": "code",
   "execution_count": 5,
   "id": "f4f5b054",
   "metadata": {
    "pycharm": {
     "name": "#%%\n"
    }
   },
   "outputs": [
    {
     "name": "stdout",
     "output_type": "stream",
     "text": [
      "Listing files from OSF project: xbr2m...\n",
      "osfstorage/new_4v6x_randomrot_copy0_defocus3.0_yes_noise.txt\n"
     ]
    }
   ],
   "source": [
    "cryoem_simulated_project.ls()"
   ]
  },
  {
   "cell_type": "markdown",
   "id": "274a0e01",
   "metadata": {
    "pycharm": {
     "name": "#%% md\n"
    }
   },
   "source": [
    "We observe that this project contains many files, organized in different folders.\n",
    "\n",
    " ## Download Files from the OSF Project\n",
    "\n",
    "We can download one of these files, e.g. choosing from the above list the following txt file:\n",
    "\n",
    "- `osfstorage/randomrot1D_nodisorder/4v6x_randomrot_copy0_defocus3.0_yes_noise.txt`.\n"
   ]
  },
  {
   "cell_type": "code",
   "execution_count": 4,
   "id": "6f5270f4",
   "metadata": {
    "pycharm": {
     "name": "#%%\n"
    }
   },
   "outputs": [
    {
     "name": "stdout",
     "output_type": "stream",
     "text": [
      "Downloading osfstorage/randomrot1D_nodisorder/4v6x_randomrot_copy0_defocus3.0_yes_noise.txt to 4v6x_randomrot_copy0_defocus3.0_yes_noise.txt...\n",
      "Done!\n"
     ]
    },
    {
     "name": "stderr",
     "output_type": "stream",
     "text": [
      "100%|██████████| 4.22k/4.22k [00:00<00:00, 19.1Mbytes/s]\n"
     ]
    }
   ],
   "source": [
    "cryoem_simulated_project.download(\n",
    "    remote_path=\"osfstorage/randomrot1D_nodisorder/4v6x_randomrot_copy0_defocus3.0_yes_noise.txt\", \n",
    "    local_path=\"4v6x_randomrot_copy0_defocus3.0_yes_noise.txt\")"
   ]
  },
  {
   "cell_type": "markdown",
   "id": "5956e4e3",
   "metadata": {
    "pycharm": {
     "name": "#%% md\n"
    }
   },
   "source": [
    "## Upload Files to an OSF Project"
   ]
  },
  {
   "cell_type": "markdown",
   "id": "c7846400",
   "metadata": {
    "pycharm": {
     "name": "#%% md\n"
    }
   },
   "source": [
    "Importantly, OSF will not let you upload data to any folder: authorization is requested.\n",
    "\n",
    "To test this functionality, you can create a new project through osf.io (https://osf.io/myprojects/) by clicking: `Create project`.\n",
    "\n",
    "This will create a new project page, as the one we are using here.\n",
    "- Save the project ID of the project you just created!\n",
    "\n",
    "You should then create a new `my_project` object of the class `datasets.Project` with the new project ID.\n",
    "\n",
    "For the purpose of this tutorial, however, we will stay with our original project cryoEM simulated and use our object `cryoem_simulated_project`.\n",
    "\n",
    "We re-upload the file that we just downloaded, renaming it by adding a `new_version` prefix to its name. We will first create a child node inside the parent node which corresponds to our root directory. Then, we will upload the file to ths child node.\n",
    "\n",
    "To do this, let's create an instance of ``OSFUpload`` class which takes care of uploading data to ``osf.io``. Provide the personal token and project ID."
   ]
  },
  {
   "cell_type": "code",
   "execution_count": null,
   "id": "74c6125e",
   "metadata": {
    "pycharm": {
     "name": "#%%\n"
    }
   },
   "outputs": [],
   "source": [
    "cryoem_simulated_project.upload(\"osfstorage/new_4v6x_randomrot_copy0_defocus3.0_yes_noise.txt\", \"4v6x_randomrot_copy0_defocus3.0_yes_noise.txt\")\n"
   ]
  },
  {
   "cell_type": "code",
   "execution_count": 6,
   "outputs": [
    {
     "name": "stdout",
     "output_type": "stream",
     "text": [
      "Deleting osfstorage/new_4v6x_randomrot_copy0_defocus3.0_yes_noise.txt in the project...\n",
      "Done!\n"
     ]
    }
   ],
   "source": [
    "\n",
    "cryoem_simulated_project.delete(\"osfstorage/new_4v6x_randomrot_copy0_defocus3.0_yes_noise.txt\")\n"
   ],
   "metadata": {
    "collapsed": false,
    "pycharm": {
     "name": "#%%\n"
    }
   }
  },
  {
   "cell_type": "code",
   "execution_count": null,
   "outputs": [],
   "source": [
    "\n",
    "osf = datasets.OSFUpload(token=cryoem_simulated_project.token, data_node_guid=cryoem_simulated_project.project_id)\n",
    "print(osf.headers)"
   ],
   "metadata": {
    "collapsed": false,
    "pycharm": {
     "name": "#%%\n"
    }
   }
  },
  {
   "cell_type": "markdown",
   "source": [
    "Now we create a child node inside the parent node, for representing the dataset with 80s ribosome data. We will use the pdb id as the name for this new node, and the function will return its ID. Since the child is also a node, it can be accessed separately from the parent node."
   ],
   "metadata": {
    "collapsed": false,
    "pycharm": {
     "name": "#%% md\n"
    }
   }
  },
  {
   "cell_type": "code",
   "execution_count": 6,
   "outputs": [
    {
     "name": "stdout",
     "output_type": "stream",
     "text": [
      "8wz6g\n"
     ]
    }
   ],
   "source": [
    "pdb_id = '4v6x'\n",
    "child_guid = osf.write_child_node(parent_guid=cryoem_simulated_project.project_id, title= pdb_id)\n",
    "print(child_guid)"
   ],
   "metadata": {
    "collapsed": false,
    "pycharm": {
     "name": "#%%\n"
    }
   }
  },
  {
   "cell_type": "markdown",
   "source": [
    "Now, we finally upload the files related to the 80s ribosome to the child node using ``write_files`` function. Note the ``file_paths`` must be a list, thus ``[]`` is needed around the filepaths."
   ],
   "metadata": {
    "collapsed": false,
    "pycharm": {
     "name": "#%% md\n"
    }
   },
   "outputs": []
  },
  {
   "cell_type": "code",
   "execution_count": 7,
   "outputs": [
    {
     "name": "stdout",
     "output_type": "stream",
     "text": [
      "Uploaded 4v6x_randomrot_copy0_defocus3.0_yes_noise.txt \n"
     ]
    },
    {
     "data": {
      "text/plain": "True"
     },
     "execution_count": 7,
     "metadata": {},
     "output_type": "execute_result"
    }
   ],
   "source": [
    "osf.write_files(child_guid, [\"4v6x_randomrot_copy0_defocus3.0_yes_noise.txt\"])"
   ],
   "metadata": {
    "collapsed": false,
    "pycharm": {
     "name": "#%%\n"
    }
   }
  },
  {
   "cell_type": "markdown",
   "source": [
    "We can now check if it was uploaded correctly using the function `read_structure_guid` which will return an ID corresponding to the pdb id passed as a parameter."
   ],
   "metadata": {
    "collapsed": false,
    "pycharm": {
     "name": "#%% md\n"
    }
   }
  },
  {
   "cell_type": "code",
   "execution_count": 8,
   "outputs": [
    {
     "data": {
      "text/plain": "'ezh4k'"
     },
     "execution_count": 8,
     "metadata": {},
     "output_type": "execute_result"
    }
   ],
   "source": [
    "osf.read_structure_guid(pdb_id)"
   ],
   "metadata": {
    "collapsed": false,
    "pycharm": {
     "name": "#%%\n"
    }
   }
  },
  {
   "cell_type": "markdown",
   "source": [
    "Congratulations! You have successfully downloaded and uploaded data from/to OSF."
   ],
   "metadata": {
    "collapsed": false,
    "pycharm": {
     "name": "#%% md\n"
    }
   }
  }
 ],
 "metadata": {
  "kernelspec": {
   "name": "python3",
   "language": "python",
   "display_name": "Python 3 (ipykernel)"
  },
  "language_info": {
   "codemirror_mode": {
    "name": "ipython",
    "version": 3
   },
   "file_extension": ".py",
   "mimetype": "text/x-python",
   "name": "python",
   "nbconvert_exporter": "python",
   "pygments_lexer": "ipython3",
   "version": "3.8.10"
  }
 },
 "nbformat": 4,
 "nbformat_minor": 5
}