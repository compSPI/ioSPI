{
 "cells": [
  {
   "cell_type": "markdown",
   "id": "a820b6f9",
   "metadata": {
    "pycharm": {
     "name": "#%% md\n"
    }
   },
   "source": [
    "# Download and Upload with OSF\n",
    "\n",
    "This tutorial shows how to download and upload cryo-EM datasets using the `datasets` module from `ioSPI`, which interact with the [Open Science Foundation (OSF)](https://osf.io/) framework. We will also learn how to list and remove files.\n",
    "\n",
    "OSF is an initiative that aims to increase the openness, reproducibility and integrity of scientific research. Among other functionalities, it is possible to upload scientific data which can be accessed by an Application Programming Interface (API). \n",
    "\n",
    "`ioSPI` offers functionalities that allow uploading and accessing cryo-EM data using the class `OSFProject` that leverages the package `osfclient`."
   ]
  },
  {
   "cell_type": "markdown",
   "id": "e60fbfce",
   "metadata": {
    "pycharm": {
     "name": "#%% md\n"
    }
   },
   "source": [
    "# Setup"
   ]
  },
  {
   "cell_type": "markdown",
   "id": "869c66c3",
   "metadata": {
    "pycharm": {
     "name": "#%% md\n"
    }
   },
   "source": [
    "First, you will need to get setup with OSF.\n",
    "\n",
    "- Create an account on <https://osf.io/> and save the email address you use.\n",
    "- On this account, create a personal token in [Settings](https://osf.io/settings/tokens) and save it.\n",
    "\n",
    "The email address and the token will be needed to connect to different OSF projects.\n",
    "\n",
    "We import the `datasets` module from `ioSPI`:"
   ]
  },
  {
   "cell_type": "code",
   "execution_count": 1,
   "id": "e74dd634",
   "metadata": {
    "pycharm": {
     "name": "#%%\n"
    }
   },
   "outputs": [],
   "source": [
    "import sys\n",
    "sys.path.append('../')\n",
    "\n",
    "from ioSPI import datasets"
   ]
  },
  {
   "cell_type": "markdown",
   "id": "cfc8e678",
   "metadata": {
    "pycharm": {
     "name": "#%% md\n"
    }
   },
   "source": [
    "# Getting Started"
   ]
  },
  {
   "cell_type": "markdown",
   "id": "c74b27f6",
   "metadata": {
    "pycharm": {
     "name": "#%% md\n"
    }
   },
   "source": [
    "## Configure your credentials to access the OSF Project"
   ]
  },
  {
   "cell_type": "markdown",
   "id": "2e4d58a3",
   "metadata": {
    "pycharm": {
     "name": "#%% md\n"
    }
   },
   "source": [
    "Find the OSF project from which you wish to download your data. \n",
    "\n",
    "In this tutorial, we use a project called \"simSPI\" which is a dummy project for testing. This project is on OSF at the url: <https://osf.io/xbr2m/>.\n",
    "\n",
    "- Save the ID of the project of interest, which appears in the project's url.\n",
    "\n",
    "In our case, the project ID is `xbr2m`.\n",
    "\n",
    "- Create an object from the class `OSFProject` using:\n",
    "  - your credentials from the setup: email address and token,\n",
    "  - the project ID that you just saved."
   ]
  },
  {
   "cell_type": "code",
   "execution_count": 2,
   "id": "febfdedd",
   "metadata": {
    "pycharm": {
     "name": "#%%\n"
    }
   },
   "outputs": [
    {
     "name": "stdout",
     "output_type": "stream",
     "text": [
      "OSF config written to .osfcli.config!\n"
     ]
    }
   ],
   "source": [
    "osf_project = datasets.OSFProject(\n",
    "    username=\"ninamio78@gmail.com\", \n",
    "    token=\"HBGGBOJcLYQfadEKIOyXJiLTum3ydXK4nGP3KmbkYUeBuYkZma9LPBSYennQn92gjP2NHn\",\n",
    "    project_id=\"xbr2m\")"
   ]
  },
  {
   "cell_type": "markdown",
   "id": "633b4dd8",
   "metadata": {
    "pycharm": {
     "name": "#%% md\n"
    }
   },
   "source": [
    "You have successfully set up the configuration of the OSF project!\n",
    "\n",
    "## List Files in the OSF Project\n",
    "\n",
    "Now you can list the files available in this OSF project."
   ]
  },
  {
   "cell_type": "code",
   "execution_count": 3,
   "id": "f4f5b054",
   "metadata": {
    "pycharm": {
     "name": "#%%\n"
    }
   },
   "outputs": [
    {
     "name": "stdout",
     "output_type": "stream",
     "text": [
      "Listing files from OSF project: xbr2m...\n"
     ]
    },
    {
     "data": {
      "text/plain": "['osfstorage/test_upload-FcEBX.txt\\n',\n 'osfstorage/Vtest_uploadptest_uploadptest_uploadTtest_uploadj.txt\\n',\n 'osfstorage/4v6x_randomrot_copy0_defocus3.0_yes_noise.txt\\n']"
     },
     "execution_count": 3,
     "metadata": {},
     "output_type": "execute_result"
    }
   ],
   "source": [
    "osf_project.ls()"
   ]
  },
  {
   "cell_type": "markdown",
   "id": "274a0e01",
   "metadata": {
    "pycharm": {
     "name": "#%% md\n"
    }
   },
   "source": [
    "We observe that this project contains one file in a directory called `osfstorage`. This is a default storage used in an OSF project. We don't have to worry about this for now.\n",
    "\n",
    " ## Download Files from the OSF Project\n",
    "\n",
    "We can download one of these files, e.g., choosing from the above list the following txt file:\n",
    "\n",
    "- `4v6x_randomrot_copy0_defocus3.0_yes_noise.txt`.\n"
   ]
  },
  {
   "cell_type": "code",
   "execution_count": 4,
   "id": "6f5270f4",
   "metadata": {
    "pycharm": {
     "name": "#%%\n"
    }
   },
   "outputs": [
    {
     "name": "stdout",
     "output_type": "stream",
     "text": [
      "Downloading osfstorage/4v6x_randomrot_copy0_defocus3.0_yes_noise.txt to 4v6x_randomrot_copy0_defocus3.0_yes_noise.txt...\n",
      "Done!\n"
     ]
    },
    {
     "name": "stderr",
     "output_type": "stream",
     "text": [
      "100%|██████████| 4.22k/4.22k [00:00<00:00, 27.0Mbytes/s]\n"
     ]
    }
   ],
   "source": [
    "osf_project.download(\n",
    "    remote_path=\"4v6x_randomrot_copy0_defocus3.0_yes_noise.txt\",\n",
    "    local_path=\"4v6x_randomrot_copy0_defocus3.0_yes_noise.txt\")"
   ]
  },
  {
   "cell_type": "markdown",
   "id": "5956e4e3",
   "metadata": {
    "pycharm": {
     "name": "#%% md\n"
    }
   },
   "source": [
    "You can check if the file is downloaded in the current working directory.\n",
    "\n",
    "## Upload Files to the OSF Project"
   ]
  },
  {
   "cell_type": "markdown",
   "id": "c7846400",
   "metadata": {
    "pycharm": {
     "name": "#%% md\n"
    }
   },
   "source": [
    "Importantly, OSF will not let you upload data to any folder: authorization is required.\n",
    "\n",
    "To test this functionality, you can create a new project through osf.io <https://osf.io/myprojects/> by clicking: `Create Project`.\n",
    "\n",
    "This will create a new project page, as the one we are using here.\n",
    "- Save the project ID of the project you just created!\n",
    "\n",
    "You should then create a new `my_project` object of the class `datasets.OSFProject` with the new project ID.\n",
    "\n",
    "For the purpose of this tutorial, however, we will stay with our original project and use our object `osf_project`.\n",
    "\n",
    "We re-upload the file that we just downloaded, renaming it by adding a `new_version` prefix to its name."
   ]
  },
  {
   "cell_type": "code",
   "execution_count": 5,
   "id": "74c6125e",
   "metadata": {
    "pycharm": {
     "name": "#%%\n"
    }
   },
   "outputs": [
    {
     "name": "stdout",
     "output_type": "stream",
     "text": [
      "Uploading 4v6x_randomrot_copy0_defocus3.0_yes_noise.txt to osfstorage/new_version_4v6x_randomrot_copy0_defocus3.0_yes_noise.txt...\n",
      "Done!\n"
     ]
    }
   ],
   "source": [
    "osf_project.upload(local_path=\"4v6x_randomrot_copy0_defocus3.0_yes_noise.txt\", remote_path=\"new_version_4v6x_randomrot_copy0_defocus3.0_yes_noise.txt\")"
   ]
  },
  {
   "cell_type": "markdown",
   "source": [
    "Let's check if the upload was successful by listing the files in the OSF project."
   ],
   "metadata": {
    "collapsed": false,
    "pycharm": {
     "name": "#%% md\n"
    }
   }
  },
  {
   "cell_type": "code",
   "execution_count": 6,
   "outputs": [
    {
     "name": "stdout",
     "output_type": "stream",
     "text": [
      "Listing files from OSF project: xbr2m...\n"
     ]
    },
    {
     "data": {
      "text/plain": "['osfstorage/new_version_4v6x_randomrot_copy0_defocus3.0_yes_noise.txt\\n',\n 'osfstorage/test_upload-FcEBX.txt\\n',\n 'osfstorage/Vtest_uploadptest_uploadptest_uploadTtest_uploadj.txt\\n',\n 'osfstorage/4v6x_randomrot_copy0_defocus3.0_yes_noise.txt\\n']"
     },
     "execution_count": 6,
     "metadata": {},
     "output_type": "execute_result"
    }
   ],
   "source": [
    "osf_project.ls()"
   ],
   "metadata": {
    "collapsed": false,
    "pycharm": {
     "name": "#%%\n"
    }
   }
  },
  {
   "cell_type": "markdown",
   "source": [
    "You should see the file `new_version_4v6x_randomrot_copy0_defocus3.0_yes_noise.txt` in the list.\n",
    "\n",
    "## Remove Files in the OSF Project\n",
    "\n",
    "Finally, let's tidy up the project by removing the file we uploaded.\n"
   ],
   "metadata": {
    "collapsed": false,
    "pycharm": {
     "name": "#%% md\n"
    }
   }
  },
  {
   "cell_type": "code",
   "execution_count": 7,
   "outputs": [
    {
     "name": "stdout",
     "output_type": "stream",
     "text": [
      "Removing osfstorage/new_version_4v6x_randomrot_copy0_defocus3.0_yes_noise.txt in the project...\n",
      "Done!\n"
     ]
    }
   ],
   "source": [
    "osf_project.remove(\"new_version_4v6x_randomrot_copy0_defocus3.0_yes_noise.txt\")"
   ],
   "metadata": {
    "collapsed": false,
    "pycharm": {
     "name": "#%%\n"
    }
   }
  },
  {
   "cell_type": "markdown",
   "source": [
    "Check if the file was removed."
   ],
   "metadata": {
    "collapsed": false,
    "pycharm": {
     "name": "#%% md\n"
    }
   }
  },
  {
   "cell_type": "code",
   "execution_count": 8,
   "outputs": [
    {
     "name": "stdout",
     "output_type": "stream",
     "text": [
      "Listing files from OSF project: xbr2m...\n"
     ]
    },
    {
     "data": {
      "text/plain": "['osfstorage/test_upload-FcEBX.txt\\n',\n 'osfstorage/Vtest_uploadptest_uploadptest_uploadTtest_uploadj.txt\\n',\n 'osfstorage/4v6x_randomrot_copy0_defocus3.0_yes_noise.txt\\n']"
     },
     "execution_count": 8,
     "metadata": {},
     "output_type": "execute_result"
    }
   ],
   "source": [
    "osf_project.ls()"
   ],
   "metadata": {
    "collapsed": false,
    "pycharm": {
     "name": "#%%\n"
    }
   }
  },
  {
   "cell_type": "markdown",
   "source": [
    "You should see that the file was removed from the project.\n",
    "\n",
    "Brilliant! Now you know how to upload, download, list and remove files in an OSF project!"
   ],
   "metadata": {
    "collapsed": false,
    "pycharm": {
     "name": "#%% md\n"
    }
   }
  }
 ],
 "metadata": {
  "kernelspec": {
   "name": "python3",
   "language": "python",
   "display_name": "Python 3 (ipykernel)"
  },
  "language_info": {
   "codemirror_mode": {
    "name": "ipython",
    "version": 3
   },
   "file_extension": ".py",
   "mimetype": "text/x-python",
   "name": "python",
   "nbconvert_exporter": "python",
   "pygments_lexer": "ipython3",
   "version": "3.8.10"
  }
 },
 "nbformat": 4,
 "nbformat_minor": 5
}