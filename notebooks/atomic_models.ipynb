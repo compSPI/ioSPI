{
 "cells": [
  {
   "cell_type": "code",
   "execution_count": 9,
   "id": "4aba144f",
   "metadata": {},
   "outputs": [],
   "source": [
    "import os\n",
    "import sys\n",
    "import warnings\n",
    "\n",
    "sys.path.append(os.path.dirname(os.getcwd()))\n",
    "warnings.filterwarnings('ignore')\n",
    "\n",
    "from ioSPI.iotools.atomic_models import file2model"
   ]
  },
  {
   "cell_type": "code",
   "execution_count": 10,
   "id": "9e77ee3a",
   "metadata": {},
   "outputs": [],
   "source": [
    "data_dir=\"/Users/fpoitevi/Projects/compSPI/ioSPI/data/\""
   ]
  },
  {
   "cell_type": "code",
   "execution_count": 11,
   "id": "b4b7ecb9",
   "metadata": {},
   "outputs": [],
   "source": [
    "pdbidlist=['4PIR','6Y1Z']\n",
    "fmtlist=['pdb','cif']"
   ]
  },
  {
   "cell_type": "code",
   "execution_count": 12,
   "id": "8acb891b",
   "metadata": {},
   "outputs": [
    {
     "name": "stdout",
     "output_type": "stream",
     "text": [
      "4PIR.pdb ==> <gemmi.Model 1 with 10 chain(s)>\n",
      "4PIR.cif ==> <gemmi.Model 1 with 10 chain(s)>\n",
      "6Y1Z.pdb ==> <gemmi.Model 1 with 5 chain(s)>\n",
      "6Y1Z.cif ==> <gemmi.Model 1 with 5 chain(s)>\n"
     ]
    }
   ],
   "source": [
    "for pdbid in range(2):\n",
    "    for fmt in range(2):\n",
    "        filename=f'{pdbidlist[pdbid]}.{fmtlist[fmt]}'\n",
    "        model = file2model(f'{data_dir}{filename}')\n",
    "        print(f'{filename} ==> {model}')"
   ]
  },
  {
   "cell_type": "code",
   "execution_count": null,
   "id": "2bf9926f",
   "metadata": {},
   "outputs": [],
   "source": []
  }
 ],
 "metadata": {
  "kernelspec": {
   "display_name": "Python 3",
   "language": "python",
   "name": "python3"
  },
  "language_info": {
   "codemirror_mode": {
    "name": "ipython",
    "version": 3
   },
   "file_extension": ".py",
   "mimetype": "text/x-python",
   "name": "python",
   "nbconvert_exporter": "python",
   "pygments_lexer": "ipython3",
   "version": "3.9.4"
  }
 },
 "nbformat": 4,
 "nbformat_minor": 5
}
